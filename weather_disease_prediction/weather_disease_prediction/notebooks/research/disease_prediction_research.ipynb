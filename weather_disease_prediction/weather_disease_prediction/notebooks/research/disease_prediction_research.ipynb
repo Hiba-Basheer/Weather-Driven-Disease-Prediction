{
 "cells": [
  {
   "cell_type": "markdown",
   "id": "92544e68",
   "metadata": {},
   "source": [
    "### Import libraries\n"
   ]
  },
  {
   "cell_type": "code",
   "execution_count": 50,
   "id": "0542d40c",
   "metadata": {},
   "outputs": [],
   "source": [
    "# Standard libraries\n",
    "import logging\n",
    "\n",
    "# Third-party libraries\n",
    "import pandas as pd\n",
    "import numpy as np\n",
    "from sklearn.model_selection import train_test_split\n",
    "from sklearn.preprocessing import LabelEncoder\n",
    "from sklearn.ensemble import RandomForestClassifier\n",
    "from xgboost import XGBClassifier\n",
    "from sklearn.metrics import accuracy_score,recall_score,classification_report\n",
    "import joblib"
   ]
  },
  {
   "cell_type": "markdown",
   "id": "d7aed12b",
   "metadata": {},
   "source": [
    "### Configure logging"
   ]
  },
  {
   "cell_type": "code",
   "execution_count": 51,
   "id": "f31e74fa",
   "metadata": {},
   "outputs": [],
   "source": [
    "logging.basicConfig(level=logging.INFO, format='%(asctime)s - %(levelname)s - %(message)s')\n",
    "logger = logging.getLogger(__name__)"
   ]
  },
  {
   "cell_type": "markdown",
   "id": "dbce8ac9",
   "metadata": {},
   "source": [
    "### Load and preprocess data"
   ]
  },
  {
   "cell_type": "code",
   "execution_count": 52,
   "id": "b1e7e9ad",
   "metadata": {},
   "outputs": [
    {
     "name": "stderr",
     "output_type": "stream",
     "text": [
      "2025-08-02 14:35:57,751 - INFO - Loading dataset\n"
     ]
    }
   ],
   "source": [
    "# Load dataset\n",
    "logger.info(\"Loading dataset\")\n",
    "data = pd.read_csv(\"D:/brototype/week27/weather driven disease prediction/weather_disease_prediction/weather_disease_prediction/data/raw/Weather-related disease prediction.csv\")"
   ]
  },
  {
   "cell_type": "code",
   "execution_count": 53,
   "id": "a6088afd",
   "metadata": {},
   "outputs": [
    {
     "name": "stderr",
     "output_type": "stream",
     "text": [
      "2025-08-02 14:35:57,794 - INFO - Dropped rows with missing values\n"
     ]
    }
   ],
   "source": [
    "# Handle missing values\n",
    "data = data.dropna()\n",
    "logger.info(\"Dropped rows with missing values\")"
   ]
  },
  {
   "cell_type": "code",
   "execution_count": 54,
   "id": "2f1d022e",
   "metadata": {},
   "outputs": [
    {
     "name": "stderr",
     "output_type": "stream",
     "text": [
      "2025-08-02 14:35:57,811 - INFO - Encoded categorical variables\n"
     ]
    }
   ],
   "source": [
    "# Encode categorical variables\n",
    "label_encoder = LabelEncoder()\n",
    "data['Gender'] = label_encoder.fit_transform(data['Gender'])\n",
    "data['prognosis'] = label_encoder.fit_transform(data['prognosis'])\n",
    "logger.info('Encoded categorical variables')"
   ]
  },
  {
   "cell_type": "markdown",
   "id": "c4e26c9f",
   "metadata": {},
   "source": [
    "### Feature Engineering - Lag variables"
   ]
  },
  {
   "cell_type": "code",
   "execution_count": 55,
   "id": "b79185e5",
   "metadata": {},
   "outputs": [
    {
     "name": "stderr",
     "output_type": "stream",
     "text": [
      "2025-08-02 14:35:57,829 - INFO - Added lag features\n"
     ]
    }
   ],
   "source": [
    "# Create lag features and fill missing with mean\n",
    "data['Temperature_lag1'] = data['Temperature (C)'].shift(1).fillna(data['Temperature (C)'].mean())\n",
    "data['Humidity_lag1'] = data['Humidity'].shift(1).fillna(data['Humidity'].mean())\n",
    "data['WindSpeed_lag1'] = data['Wind Speed (km/h)'].shift(1).fillna(data['Wind Speed (km/h)'].mean())\n",
    "logger.info(\"Added lag features\")"
   ]
  },
  {
   "cell_type": "markdown",
   "id": "14038679",
   "metadata": {},
   "source": [
    "### Define Features and Target"
   ]
  },
  {
   "cell_type": "code",
   "execution_count": 56,
   "id": "b8fe4f2f",
   "metadata": {},
   "outputs": [
    {
     "name": "stderr",
     "output_type": "stream",
     "text": [
      "2025-08-02 14:35:57,848 - INFO - Defined features and target\n"
     ]
    }
   ],
   "source": [
    "# Explicitly include the required columns only once\n",
    "initial_features = [\n",
    "    'Age', 'Gender', 'Temperature (C)', 'Humidity', 'Wind Speed (km/h)',\n",
    "    'Temperature_lag1', 'Humidity_lag1', 'WindSpeed_lag1'\n",
    "]\n",
    "\n",
    "# Add other features (excluding target)\n",
    "remaining_features = [\n",
    "    col for col in data.columns if col not in initial_features + ['prognosis']\n",
    "]\n",
    "\n",
    "# Combine feature columns\n",
    "feature_cols = list(dict.fromkeys(initial_features + remaining_features))\n",
    "\n",
    "# Feature matrix and target vector\n",
    "X = data[feature_cols]\n",
    "y = data['prognosis']\n",
    "logger.info(\"Defined features and target\")"
   ]
  },
  {
   "cell_type": "markdown",
   "id": "3314e180",
   "metadata": {},
   "source": [
    "### Split Data and Train Models"
   ]
  },
  {
   "cell_type": "code",
   "execution_count": 57,
   "id": "4660872f",
   "metadata": {},
   "outputs": [
    {
     "name": "stderr",
     "output_type": "stream",
     "text": [
      "2025-08-02 14:35:57,865 - INFO - Split data into training and test sets\n",
      "d:\\brototype\\week27\\weather driven disease prediction\\weather_driven_venv\\Lib\\site-packages\\xgboost\\training.py:183: UserWarning: [14:35:58] WARNING: C:\\actions-runner\\_work\\xgboost\\xgboost\\src\\learner.cc:738: \n",
      "Parameters: { \"use_label_encoder\" } are not used.\n",
      "\n",
      "  bst.update(dtrain, iteration=i, fobj=obj)\n",
      "2025-08-02 14:35:59,023 - INFO - Trained RandomForest and XGBoost models\n"
     ]
    }
   ],
   "source": [
    "# Train-test split\n",
    "X_train, X_test, y_train, y_test = train_test_split(X, y, test_size=0.2, random_state=42)\n",
    "logger.info(\"Split data into training and test sets\")\n",
    "\n",
    "# Model initialization\n",
    "rf_model = RandomForestClassifier(n_estimators=100, random_state=42)\n",
    "xgb_model = XGBClassifier(use_label_encoder=False, eval_metric='mlogloss', random_state=42)\n",
    "\n",
    "# Train models\n",
    "rf_model.fit(X_train, y_train)\n",
    "xgb_model.fit(X_train, y_train)\n",
    "logger.info(\"Trained RandomForest and XGBoost models\")"
   ]
  },
  {
   "cell_type": "code",
   "execution_count": 58,
   "id": "6266f034",
   "metadata": {},
   "outputs": [
    {
     "name": "stdout",
     "output_type": "stream",
     "text": [
      "Predicted Disease: Heat Stroke\n"
     ]
    }
   ],
   "source": [
    "import sys\n",
    "import os\n",
    "import traceback\n",
    "\n",
    "# Add correct src path for predict.py\n",
    "sys.path.append(r\"D:/brototype/week27/weather driven disease prediction/weather_disease_prediction/weather_disease_prediction/src\")\n",
    "\n",
    "from predict import predict_disease\n",
    "\n",
    "# Symptom columns\n",
    "symptom_columns = [\n",
    "    'nausea', 'joint_pain', 'abdominal_pain', 'high_fever', 'chills', 'fatigue',\n",
    "    'runny_nose', 'pain_behind_the_eyes', 'dizziness', 'headache', 'chest_pain',\n",
    "    'vomiting', 'cough', 'shivering', 'asthma_history', 'high_cholesterol',\n",
    "    'diabetes', 'obesity', 'hiv_aids', 'nasal_polyps', 'asthma',\n",
    "    'high_blood_pressure', 'severe_headache', 'weakness', 'trouble_seeing',\n",
    "    'fever', 'body_aches', 'sore_throat', 'sneezing', 'diarrhea',\n",
    "    'rapid_breathing', 'rapid_heart_rate', 'pain_behind_eyes', 'swollen_glands',\n",
    "    'rashes', 'sinus_headache', 'facial_pain', 'shortness_of_breath',\n",
    "    'reduced_smell_and_taste', 'skin_irritation', 'itchiness', 'throbbing_headache',\n",
    "    'confusion', 'back_pain', 'knee_ache'\n",
    "]\n",
    "\n",
    "# User input\n",
    "user_input = {\n",
    "    'age': 30,\n",
    "    'gender': 'male',\n",
    "    'temperature': 25.0,\n",
    "    'humidity': 0.7,\n",
    "    'wind_speed': 10.0,\n",
    "    'symptoms': ['nausea', 'high_fever']\n",
    "}\n",
    "\n",
    "# Correct model paths\n",
    "model_path = \"../../models/trained_model.pkl\"\n",
    "label_path = \"../../models/label_encoder.pkl\"\n",
    "\n",
    "# Prediction\n",
    "try:\n",
    "    disease = predict_disease(\n",
    "        user_input,\n",
    "        model_path,\n",
    "        label_path,\n",
    "        symptom_columns\n",
    "    )\n",
    "    print(f\"Predicted Disease: {disease}\")\n",
    "except Exception as e:\n",
    "    print(f\"Prediction failed: {str(e)}\")\n",
    "    traceback.print_exc()\n"
   ]
  }
 ],
 "metadata": {
  "kernelspec": {
   "display_name": "weather_driven_venv",
   "language": "python",
   "name": "python3"
  },
  "language_info": {
   "codemirror_mode": {
    "name": "ipython",
    "version": 3
   },
   "file_extension": ".py",
   "mimetype": "text/x-python",
   "name": "python",
   "nbconvert_exporter": "python",
   "pygments_lexer": "ipython3",
   "version": "3.13.2"
  }
 },
 "nbformat": 4,
 "nbformat_minor": 5
}
